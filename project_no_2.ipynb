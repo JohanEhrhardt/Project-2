{
 "cells": [
  {
   "cell_type": "markdown",
   "metadata": {},
   "source": [
    "# ASX Companies Database"
   ]
  },
  {
   "cell_type": "code",
   "execution_count": 1,
   "metadata": {},
   "outputs": [],
   "source": [
    "# dependencies\n",
    "from splinter import Browser\n",
    "from bs4 import BeautifulSoup\n",
    "from webdriver_manager.chrome import ChromeDriverManager\n",
    "import pandas as pd\n",
    "from sqlalchemy import create_engine"
   ]
  },
  {
   "cell_type": "markdown",
   "metadata": {},
   "source": [
    "### Table 1: ASX 200 Company"
   ]
  },
  {
   "cell_type": "markdown",
   "metadata": {},
   "source": [
    "### Extract data from web scraping, source: https://www.marketindex.com.au/asx200"
   ]
  },
  {
   "cell_type": "code",
   "execution_count": 2,
   "metadata": {},
   "outputs": [
    {
     "name": "stdout",
     "output_type": "stream",
     "text": [
      "\n"
     ]
    }
   ],
   "source": [
    "# Setup splinter\n",
    "executable_path = {'executable_path': ChromeDriverManager().install()}\n",
    "browser = Browser('chrome', **executable_path, headless=False)"
   ]
  },
  {
   "cell_type": "code",
   "execution_count": 3,
   "metadata": {},
   "outputs": [],
   "source": [
    "# visit web\n",
    "url = 'https://www.marketindex.com.au/asx200'\n",
    "browser.visit(url)"
   ]
  },
  {
   "cell_type": "code",
   "execution_count": 4,
   "metadata": {},
   "outputs": [],
   "source": [
    "# HTML object\n",
    "html = browser.html\n",
    "# Parse HTML with Beautiful Soup\n",
    "soup = BeautifulSoup(html, 'html.parser')"
   ]
  },
  {
   "cell_type": "code",
   "execution_count": 17,
   "metadata": {},
   "outputs": [],
   "source": [
    "# find and create list of asx 200 company code\n",
    "stock_code = soup.find_all('tr', class_=\"star-stock-sibling\")\n",
    "\n",
    "stock_code_list = []\n",
    "for x in stock_code:\n",
    "    stock_code_list.append(x[\"data-quoteapi-id\"])\n",
    "    "
   ]
  },
  {
   "cell_type": "code",
   "execution_count": 12,
   "metadata": {},
   "outputs": [
    {
     "ename": "KeyError",
     "evalue": "'$cur.yearChangeSignCSS'",
     "output_type": "error",
     "traceback": [
      "\u001b[1;31m---------------------------------------------------------------------------\u001b[0m",
      "\u001b[1;31mKeyError\u001b[0m                                  Traceback (most recent call last)",
      "\u001b[1;32m~\\AppData\\Local\\Temp\\ipykernel_3240\\1251099837.py\u001b[0m in \u001b[0;36m<module>\u001b[1;34m\u001b[0m\n\u001b[0;32m      5\u001b[0m \u001b[1;33m\u001b[0m\u001b[0m\n\u001b[0;32m      6\u001b[0m \u001b[1;32mfor\u001b[0m \u001b[0mx\u001b[0m \u001b[1;32min\u001b[0m \u001b[0mperformance\u001b[0m\u001b[1;33m:\u001b[0m\u001b[1;33m\u001b[0m\u001b[1;33m\u001b[0m\u001b[0m\n\u001b[1;32m----> 7\u001b[1;33m     \u001b[0mperformance_list\u001b[0m\u001b[1;33m.\u001b[0m\u001b[0mappend\u001b[0m\u001b[1;33m(\u001b[0m\u001b[0mx\u001b[0m\u001b[1;33m[\u001b[0m\u001b[1;34m\"$cur.yearChangeSignCSS\"\u001b[0m\u001b[1;33m]\u001b[0m\u001b[1;33m)\u001b[0m\u001b[1;33m\u001b[0m\u001b[1;33m\u001b[0m\u001b[0m\n\u001b[0m\u001b[0;32m      8\u001b[0m \u001b[1;33m\u001b[0m\u001b[0m\n\u001b[0;32m      9\u001b[0m \u001b[1;31m# data-quoteapi=\"$cur.yearPctChange (fullySigned); $cur.yearChangeSignCSS\"\u001b[0m\u001b[1;33m\u001b[0m\u001b[1;33m\u001b[0m\u001b[1;33m\u001b[0m\u001b[0m\n",
      "\u001b[1;32mc:\\Users\\david\\Anaconda3\\envs\\bootcamp\\lib\\site-packages\\bs4\\element.py\u001b[0m in \u001b[0;36m__getitem__\u001b[1;34m(self, key)\u001b[0m\n\u001b[0;32m   1517\u001b[0m         \"\"\"tag[key] returns the value of the 'key' attribute for the Tag,\n\u001b[0;32m   1518\u001b[0m         and throws an exception if it's not there.\"\"\"\n\u001b[1;32m-> 1519\u001b[1;33m         \u001b[1;32mreturn\u001b[0m \u001b[0mself\u001b[0m\u001b[1;33m.\u001b[0m\u001b[0mattrs\u001b[0m\u001b[1;33m[\u001b[0m\u001b[0mkey\u001b[0m\u001b[1;33m]\u001b[0m\u001b[1;33m\u001b[0m\u001b[1;33m\u001b[0m\u001b[0m\n\u001b[0m\u001b[0;32m   1520\u001b[0m \u001b[1;33m\u001b[0m\u001b[0m\n\u001b[0;32m   1521\u001b[0m     \u001b[1;32mdef\u001b[0m \u001b[0m__iter__\u001b[0m\u001b[1;33m(\u001b[0m\u001b[0mself\u001b[0m\u001b[1;33m)\u001b[0m\u001b[1;33m:\u001b[0m\u001b[1;33m\u001b[0m\u001b[1;33m\u001b[0m\u001b[0m\n",
      "\u001b[1;31mKeyError\u001b[0m: '$cur.yearChangeSignCSS'"
     ]
    }
   ],
   "source": [
    "# find and create list of one year performance of asx 200 company\n",
    "performance = soup.find_all('td', class_=\"sticky-column\")\n",
    "\n",
    "performance_list = []\n",
    "\n",
    "for x in performance:\n",
    "    performance_list.append(x[\"$cur.yearChangeSignCSS\"])\n",
    "\n",
    "# data-quoteapi=\"$cur.yearPctChange (fullySigned); $cur.yearChangeSignCSS\""
   ]
  },
  {
   "cell_type": "code",
   "execution_count": 19,
   "metadata": {},
   "outputs": [],
   "source": [
    "# end splinter\n",
    "browser.quit()"
   ]
  },
  {
   "cell_type": "code",
   "execution_count": 18,
   "metadata": {},
   "outputs": [
    {
     "data": {
      "text/html": [
       "<div>\n",
       "<style scoped>\n",
       "    .dataframe tbody tr th:only-of-type {\n",
       "        vertical-align: middle;\n",
       "    }\n",
       "\n",
       "    .dataframe tbody tr th {\n",
       "        vertical-align: top;\n",
       "    }\n",
       "\n",
       "    .dataframe thead th {\n",
       "        text-align: right;\n",
       "    }\n",
       "</style>\n",
       "<table border=\"1\" class=\"dataframe\">\n",
       "  <thead>\n",
       "    <tr style=\"text-align: right;\">\n",
       "      <th></th>\n",
       "      <th>company_code</th>\n",
       "      <th>percent_change_one_year</th>\n",
       "    </tr>\n",
       "  </thead>\n",
       "  <tbody>\n",
       "  </tbody>\n",
       "</table>\n",
       "</div>"
      ],
      "text/plain": [
       "Empty DataFrame\n",
       "Columns: [company_code, percent_change_one_year]\n",
       "Index: []"
      ]
     },
     "execution_count": 18,
     "metadata": {},
     "output_type": "execute_result"
    }
   ],
   "source": [
    "# create dataframe\n",
    "asx200 = pd.DataFrame(list(zip(stock_code_list, performance_list)),columns =['company_code', 'percent_change_one_year'])\n",
    "\n",
    "asx200"
   ]
  },
  {
   "cell_type": "markdown",
   "metadata": {},
   "source": [
    "### Transform data"
   ]
  },
  {
   "cell_type": "code",
   "execution_count": null,
   "metadata": {},
   "outputs": [],
   "source": []
  },
  {
   "cell_type": "markdown",
   "metadata": {},
   "source": [
    "### Table 2: ASX Company"
   ]
  },
  {
   "cell_type": "markdown",
   "metadata": {},
   "source": [
    "### Extract data from CSV file, source: https://www.listcorp.com/asx/"
   ]
  },
  {
   "cell_type": "code",
   "execution_count": 39,
   "metadata": {},
   "outputs": [
    {
     "data": {
      "text/plain": [
       "2219"
      ]
     },
     "execution_count": 39,
     "metadata": {},
     "output_type": "execute_result"
    }
   ],
   "source": [
    "# create dataframe from CSV file\n",
    "asx_company = \"companies-list.csv\"\n",
    "asx_company_df = pd.read_csv(asx_company)\n",
    "len(asx_company_df)"
   ]
  },
  {
   "cell_type": "code",
   "execution_count": 40,
   "metadata": {},
   "outputs": [
    {
     "data": {
      "text/html": [
       "<div>\n",
       "<style scoped>\n",
       "    .dataframe tbody tr th:only-of-type {\n",
       "        vertical-align: middle;\n",
       "    }\n",
       "\n",
       "    .dataframe tbody tr th {\n",
       "        vertical-align: top;\n",
       "    }\n",
       "\n",
       "    .dataframe thead th {\n",
       "        text-align: right;\n",
       "    }\n",
       "</style>\n",
       "<table border=\"1\" class=\"dataframe\">\n",
       "  <thead>\n",
       "    <tr style=\"text-align: right;\">\n",
       "      <th></th>\n",
       "      <th>Code</th>\n",
       "      <th>Company</th>\n",
       "      <th>Link</th>\n",
       "      <th>Market Cap</th>\n",
       "      <th>Last trade</th>\n",
       "      <th>Change</th>\n",
       "      <th>%Change</th>\n",
       "      <th>Sector</th>\n",
       "    </tr>\n",
       "  </thead>\n",
       "  <tbody>\n",
       "    <tr>\n",
       "      <th>0</th>\n",
       "      <td>ASX:BHP</td>\n",
       "      <td>BHP Group Limited (ASX:BHP)</td>\n",
       "      <td>https://www.listcorp.com/asx/bhp/bhp-group-lim...</td>\n",
       "      <td>189938000000</td>\n",
       "      <td>38.32</td>\n",
       "      <td>0.80</td>\n",
       "      <td>2.13</td>\n",
       "      <td>Materials</td>\n",
       "    </tr>\n",
       "    <tr>\n",
       "      <th>1</th>\n",
       "      <td>ASX:CBA</td>\n",
       "      <td>Commonwealth Bank (ASX:CBA)</td>\n",
       "      <td>https://www.listcorp.com/asx/cba/commonwealth-...</td>\n",
       "      <td>168282000000</td>\n",
       "      <td>99.89</td>\n",
       "      <td>0.99</td>\n",
       "      <td>1.00</td>\n",
       "      <td>Financials</td>\n",
       "    </tr>\n",
       "    <tr>\n",
       "      <th>2</th>\n",
       "      <td>ASX:CSL</td>\n",
       "      <td>CSL Limited (ASX:CSL)</td>\n",
       "      <td>https://www.listcorp.com/asx/csl/csl-limited</td>\n",
       "      <td>140576000000</td>\n",
       "      <td>291.40</td>\n",
       "      <td>-0.44</td>\n",
       "      <td>-0.15</td>\n",
       "      <td>Health Care</td>\n",
       "    </tr>\n",
       "    <tr>\n",
       "      <th>3</th>\n",
       "      <td>ASX:NAB</td>\n",
       "      <td>National Australia Bank (ASX:NAB)</td>\n",
       "      <td>https://www.listcorp.com/asx/nab/nab</td>\n",
       "      <td>95792600000</td>\n",
       "      <td>30.33</td>\n",
       "      <td>0.20</td>\n",
       "      <td>0.66</td>\n",
       "      <td>Financials</td>\n",
       "    </tr>\n",
       "    <tr>\n",
       "      <th>4</th>\n",
       "      <td>ASX:WBC</td>\n",
       "      <td>Westpac Banking Corp (ASX:WBC)</td>\n",
       "      <td>https://www.listcorp.com/asx/wbc/westpac</td>\n",
       "      <td>74959100000</td>\n",
       "      <td>21.43</td>\n",
       "      <td>0.02</td>\n",
       "      <td>0.09</td>\n",
       "      <td>Financials</td>\n",
       "    </tr>\n",
       "  </tbody>\n",
       "</table>\n",
       "</div>"
      ],
      "text/plain": [
       "      Code                            Company  \\\n",
       "0  ASX:BHP        BHP Group Limited (ASX:BHP)   \n",
       "1  ASX:CBA        Commonwealth Bank (ASX:CBA)   \n",
       "2  ASX:CSL              CSL Limited (ASX:CSL)   \n",
       "3  ASX:NAB  National Australia Bank (ASX:NAB)   \n",
       "4  ASX:WBC     Westpac Banking Corp (ASX:WBC)   \n",
       "\n",
       "                                                Link    Market Cap  \\\n",
       "0  https://www.listcorp.com/asx/bhp/bhp-group-lim...  189938000000   \n",
       "1  https://www.listcorp.com/asx/cba/commonwealth-...  168282000000   \n",
       "2       https://www.listcorp.com/asx/csl/csl-limited  140576000000   \n",
       "3               https://www.listcorp.com/asx/nab/nab   95792600000   \n",
       "4           https://www.listcorp.com/asx/wbc/westpac   74959100000   \n",
       "\n",
       "   Last trade  Change  %Change       Sector  \n",
       "0       38.32    0.80     2.13    Materials  \n",
       "1       99.89    0.99     1.00   Financials  \n",
       "2      291.40   -0.44    -0.15  Health Care  \n",
       "3       30.33    0.20     0.66   Financials  \n",
       "4       21.43    0.02     0.09   Financials  "
      ]
     },
     "execution_count": 40,
     "metadata": {},
     "output_type": "execute_result"
    }
   ],
   "source": [
    "asx_company_df.head()"
   ]
  },
  {
   "cell_type": "markdown",
   "metadata": {},
   "source": [
    "### Transform data"
   ]
  },
  {
   "cell_type": "code",
   "execution_count": 45,
   "metadata": {},
   "outputs": [
    {
     "name": "stdout",
     "output_type": "stream",
     "text": [
      "2219\n"
     ]
    },
    {
     "data": {
      "text/plain": [
       "company_code               object\n",
       "company_name               object\n",
       "market_cap                  int64\n",
       "price_28jul22             float64\n",
       "change_28jul22            float64\n",
       "percent_change_28jul22    float64\n",
       "sector                     object\n",
       "dtype: object"
      ]
     },
     "execution_count": 45,
     "metadata": {},
     "output_type": "execute_result"
    }
   ],
   "source": [
    "# remove column\n",
    "transformed_asx_company_df = asx_company_df[['Code', 'Company', 'Market Cap', 'Last trade', 'Change', '%Change', 'Sector']].copy()\n",
    "\n",
    "# change column name\n",
    "transformed_asx_company_df.columns = ['company_code', 'company_name', 'market_cap', 'price_28jul22', 'change_28jul22', 'percent_change_28jul22', 'sector']\n",
    "\n",
    "# transformed_asx_company_df.shape[0]\n",
    "\n",
    "# drop duplicates\n",
    "transformed_asx_company_df = transformed_asx_company_df.drop_duplicates(subset=[\"company_code\"])\n",
    "\n",
    "# drop na\n",
    "transformed_asx_company_df = transformed_asx_company_df.dropna(subset=[\"sector\"])\n",
    "\n",
    "print(len(transformed_asx_company_df))\n",
    "\n",
    "# check data type\n",
    "transformed_asx_company_df.dtypes"
   ]
  },
  {
   "cell_type": "code",
   "execution_count": 48,
   "metadata": {},
   "outputs": [
    {
     "data": {
      "text/html": [
       "<div>\n",
       "<style scoped>\n",
       "    .dataframe tbody tr th:only-of-type {\n",
       "        vertical-align: middle;\n",
       "    }\n",
       "\n",
       "    .dataframe tbody tr th {\n",
       "        vertical-align: top;\n",
       "    }\n",
       "\n",
       "    .dataframe thead th {\n",
       "        text-align: right;\n",
       "    }\n",
       "</style>\n",
       "<table border=\"1\" class=\"dataframe\">\n",
       "  <thead>\n",
       "    <tr style=\"text-align: right;\">\n",
       "      <th></th>\n",
       "      <th>company_code</th>\n",
       "      <th>company_name</th>\n",
       "      <th>market_cap</th>\n",
       "      <th>price_28jul22</th>\n",
       "      <th>change_28jul22</th>\n",
       "      <th>percent_change_28jul22</th>\n",
       "      <th>sector</th>\n",
       "    </tr>\n",
       "  </thead>\n",
       "  <tbody>\n",
       "    <tr>\n",
       "      <th>0</th>\n",
       "      <td>:BHP</td>\n",
       "      <td>BHP Group Limited (ASX:BHP)</td>\n",
       "      <td>189938000000</td>\n",
       "      <td>38.32</td>\n",
       "      <td>0.80</td>\n",
       "      <td>2.13</td>\n",
       "      <td>Materials</td>\n",
       "    </tr>\n",
       "    <tr>\n",
       "      <th>1</th>\n",
       "      <td>:CBA</td>\n",
       "      <td>Commonwealth Bank (ASX:CBA)</td>\n",
       "      <td>168282000000</td>\n",
       "      <td>99.89</td>\n",
       "      <td>0.99</td>\n",
       "      <td>1.00</td>\n",
       "      <td>Financials</td>\n",
       "    </tr>\n",
       "    <tr>\n",
       "      <th>2</th>\n",
       "      <td>:CSL</td>\n",
       "      <td>CSL Limited (ASX:CSL)</td>\n",
       "      <td>140576000000</td>\n",
       "      <td>291.40</td>\n",
       "      <td>-0.44</td>\n",
       "      <td>-0.15</td>\n",
       "      <td>Health Care</td>\n",
       "    </tr>\n",
       "    <tr>\n",
       "      <th>3</th>\n",
       "      <td>:NAB</td>\n",
       "      <td>National Australia Bank (ASX:NAB)</td>\n",
       "      <td>95792600000</td>\n",
       "      <td>30.33</td>\n",
       "      <td>0.20</td>\n",
       "      <td>0.66</td>\n",
       "      <td>Financials</td>\n",
       "    </tr>\n",
       "    <tr>\n",
       "      <th>4</th>\n",
       "      <td>:WBC</td>\n",
       "      <td>Westpac Banking Corp (ASX:WBC)</td>\n",
       "      <td>74959100000</td>\n",
       "      <td>21.43</td>\n",
       "      <td>0.02</td>\n",
       "      <td>0.09</td>\n",
       "      <td>Financials</td>\n",
       "    </tr>\n",
       "  </tbody>\n",
       "</table>\n",
       "</div>"
      ],
      "text/plain": [
       "  company_code                       company_name    market_cap  \\\n",
       "0         :BHP        BHP Group Limited (ASX:BHP)  189938000000   \n",
       "1         :CBA        Commonwealth Bank (ASX:CBA)  168282000000   \n",
       "2         :CSL              CSL Limited (ASX:CSL)  140576000000   \n",
       "3         :NAB  National Australia Bank (ASX:NAB)   95792600000   \n",
       "4         :WBC     Westpac Banking Corp (ASX:WBC)   74959100000   \n",
       "\n",
       "   price_28jul22  change_28jul22  percent_change_28jul22       sector  \n",
       "0          38.32            0.80                    2.13    Materials  \n",
       "1          99.89            0.99                    1.00   Financials  \n",
       "2         291.40           -0.44                   -0.15  Health Care  \n",
       "3          30.33            0.20                    0.66   Financials  \n",
       "4          21.43            0.02                    0.09   Financials  "
      ]
     },
     "execution_count": 48,
     "metadata": {},
     "output_type": "execute_result"
    }
   ],
   "source": [
    "# remame rows in column \"company_code\"\n",
    "transformed_asx_company_df['company_code'] = transformed_asx_company_df['company_code'].map(lambda x: x.lstrip('ASX'))\n",
    "transformed_asx_company_df.head()\n"
   ]
  },
  {
   "cell_type": "code",
   "execution_count": 49,
   "metadata": {},
   "outputs": [
    {
     "data": {
      "text/html": [
       "<div>\n",
       "<style scoped>\n",
       "    .dataframe tbody tr th:only-of-type {\n",
       "        vertical-align: middle;\n",
       "    }\n",
       "\n",
       "    .dataframe tbody tr th {\n",
       "        vertical-align: top;\n",
       "    }\n",
       "\n",
       "    .dataframe thead th {\n",
       "        text-align: right;\n",
       "    }\n",
       "</style>\n",
       "<table border=\"1\" class=\"dataframe\">\n",
       "  <thead>\n",
       "    <tr style=\"text-align: right;\">\n",
       "      <th></th>\n",
       "      <th>company_code</th>\n",
       "      <th>company_name</th>\n",
       "      <th>market_cap</th>\n",
       "      <th>price_28jul22</th>\n",
       "      <th>change_28jul22</th>\n",
       "      <th>percent_change_28jul22</th>\n",
       "      <th>sector</th>\n",
       "    </tr>\n",
       "  </thead>\n",
       "  <tbody>\n",
       "    <tr>\n",
       "      <th>0</th>\n",
       "      <td>BHP</td>\n",
       "      <td>BHP Group Limited (ASX:BHP)</td>\n",
       "      <td>189938000000</td>\n",
       "      <td>38.32</td>\n",
       "      <td>0.80</td>\n",
       "      <td>2.13</td>\n",
       "      <td>Materials</td>\n",
       "    </tr>\n",
       "    <tr>\n",
       "      <th>1</th>\n",
       "      <td>CBA</td>\n",
       "      <td>Commonwealth Bank (ASX:CBA)</td>\n",
       "      <td>168282000000</td>\n",
       "      <td>99.89</td>\n",
       "      <td>0.99</td>\n",
       "      <td>1.00</td>\n",
       "      <td>Financials</td>\n",
       "    </tr>\n",
       "    <tr>\n",
       "      <th>2</th>\n",
       "      <td>CSL</td>\n",
       "      <td>CSL Limited (ASX:CSL)</td>\n",
       "      <td>140576000000</td>\n",
       "      <td>291.40</td>\n",
       "      <td>-0.44</td>\n",
       "      <td>-0.15</td>\n",
       "      <td>Health Care</td>\n",
       "    </tr>\n",
       "    <tr>\n",
       "      <th>3</th>\n",
       "      <td>NAB</td>\n",
       "      <td>National Australia Bank (ASX:NAB)</td>\n",
       "      <td>95792600000</td>\n",
       "      <td>30.33</td>\n",
       "      <td>0.20</td>\n",
       "      <td>0.66</td>\n",
       "      <td>Financials</td>\n",
       "    </tr>\n",
       "    <tr>\n",
       "      <th>4</th>\n",
       "      <td>WBC</td>\n",
       "      <td>Westpac Banking Corp (ASX:WBC)</td>\n",
       "      <td>74959100000</td>\n",
       "      <td>21.43</td>\n",
       "      <td>0.02</td>\n",
       "      <td>0.09</td>\n",
       "      <td>Financials</td>\n",
       "    </tr>\n",
       "  </tbody>\n",
       "</table>\n",
       "</div>"
      ],
      "text/plain": [
       "  company_code                       company_name    market_cap  \\\n",
       "0          BHP        BHP Group Limited (ASX:BHP)  189938000000   \n",
       "1          CBA        Commonwealth Bank (ASX:CBA)  168282000000   \n",
       "2          CSL              CSL Limited (ASX:CSL)  140576000000   \n",
       "3          NAB  National Australia Bank (ASX:NAB)   95792600000   \n",
       "4          WBC     Westpac Banking Corp (ASX:WBC)   74959100000   \n",
       "\n",
       "   price_28jul22  change_28jul22  percent_change_28jul22       sector  \n",
       "0          38.32            0.80                    2.13    Materials  \n",
       "1          99.89            0.99                    1.00   Financials  \n",
       "2         291.40           -0.44                   -0.15  Health Care  \n",
       "3          30.33            0.20                    0.66   Financials  \n",
       "4          21.43            0.02                    0.09   Financials  "
      ]
     },
     "execution_count": 49,
     "metadata": {},
     "output_type": "execute_result"
    }
   ],
   "source": [
    "# remame rows in column \"company_code\"\n",
    "transformed_asx_company_df['company_code'] = transformed_asx_company_df['company_code'].map(lambda x: x.lstrip(':'))\n",
    "transformed_asx_company_df.head()\n"
   ]
  },
  {
   "cell_type": "markdown",
   "metadata": {},
   "source": [
    "### Load dataframe to database "
   ]
  },
  {
   "cell_type": "code",
   "execution_count": 50,
   "metadata": {},
   "outputs": [],
   "source": [
    "# create connection\n",
    "connection = \"postgres:David$1986@localhost:5432/asx_db\"\n",
    "engine = create_engine(f'postgresql://{connection}')"
   ]
  },
  {
   "cell_type": "code",
   "execution_count": 51,
   "metadata": {},
   "outputs": [
    {
     "name": "stderr",
     "output_type": "stream",
     "text": [
      "c:\\Users\\david\\Anaconda3\\envs\\bootcamp\\lib\\site-packages\\ipykernel_launcher.py:2: SADeprecationWarning: The Engine.table_names() method is deprecated and will be removed in a future release.  Please refer to Inspector.get_table_names(). (deprecated since: 1.4)\n",
      "  \n"
     ]
    },
    {
     "data": {
      "text/plain": [
       "['asx_companies']"
      ]
     },
     "execution_count": 51,
     "metadata": {},
     "output_type": "execute_result"
    }
   ],
   "source": [
    "# Confirm tables\n",
    "engine.table_names()"
   ]
  },
  {
   "cell_type": "code",
   "execution_count": 52,
   "metadata": {},
   "outputs": [],
   "source": [
    "# load dataframe\n",
    "transformed_asx_company_df.to_sql(name=\"asx_companies\", con=engine, if_exists='append', index=False)"
   ]
  }
 ],
 "metadata": {
  "kernelspec": {
   "display_name": "Python 3.7.13 ('bootcamp')",
   "language": "python",
   "name": "python3"
  },
  "language_info": {
   "codemirror_mode": {
    "name": "ipython",
    "version": 3
   },
   "file_extension": ".py",
   "mimetype": "text/x-python",
   "name": "python",
   "nbconvert_exporter": "python",
   "pygments_lexer": "ipython3",
   "version": "3.7.13"
  },
  "orig_nbformat": 4,
  "vscode": {
   "interpreter": {
    "hash": "f558debdfaba676aff5dab4f39c140e6991e3cee48166dee3f538a0f8087c214"
   }
  }
 },
 "nbformat": 4,
 "nbformat_minor": 2
}
