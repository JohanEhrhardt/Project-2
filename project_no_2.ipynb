{
 "cells": [
  {
   "cell_type": "markdown",
   "metadata": {},
   "source": [
    "# ASX Companies Database"
   ]
  },
  {
   "cell_type": "code",
   "execution_count": 35,
   "metadata": {},
   "outputs": [],
   "source": [
    "# dependencies\n",
    "from splinter import Browser\n",
    "from bs4 import BeautifulSoup\n",
    "from webdriver_manager.chrome import ChromeDriverManager\n",
    "import pandas as pd\n",
    "from sqlalchemy import create_engine\n",
    "import time"
   ]
  },
  {
   "cell_type": "markdown",
   "metadata": {},
   "source": [
    "## Table 1: ASX 200 Company"
   ]
  },
  {
   "cell_type": "markdown",
   "metadata": {},
   "source": [
    "## Extract data from web scraping, source: https://www.marketindex.com.au/asx200"
   ]
  },
  {
   "cell_type": "code",
   "execution_count": 36,
   "metadata": {},
   "outputs": [
    {
     "name": "stdout",
     "output_type": "stream",
     "text": [
      "\n"
     ]
    }
   ],
   "source": [
    "# setup splinter\n",
    "executable_path = {'executable_path': ChromeDriverManager().install()}\n",
    "browser = Browser('chrome', **executable_path, headless=False)"
   ]
  },
  {
   "cell_type": "code",
   "execution_count": 37,
   "metadata": {},
   "outputs": [],
   "source": [
    "# define url\n",
    "url = 'https://www.marketindex.com.au/asx200'"
   ]
  },
  {
   "cell_type": "code",
   "execution_count": 38,
   "metadata": {},
   "outputs": [],
   "source": [
    "# visit url\n",
    "browser.visit(url)"
   ]
  },
  {
   "cell_type": "code",
   "execution_count": 39,
   "metadata": {},
   "outputs": [],
   "source": [
    "# wait for 5 seconds\n",
    "time.sleep(5)"
   ]
  },
  {
   "cell_type": "code",
   "execution_count": 40,
   "metadata": {},
   "outputs": [],
   "source": [
    "# click 'Show All Companies' button\n",
    "target = 'button[class=\"btn control-company-display\"]'\n",
    "browser.find_by_tag(target).click()"
   ]
  },
  {
   "cell_type": "code",
   "execution_count": 41,
   "metadata": {},
   "outputs": [],
   "source": [
    "# wait for 5 seconds\n",
    "time.sleep(5)"
   ]
  },
  {
   "cell_type": "code",
   "execution_count": 42,
   "metadata": {},
   "outputs": [],
   "source": [
    "# HTML object\n",
    "html = browser.html\n",
    "# Parse HTML with Beautiful Soup\n",
    "soup = BeautifulSoup(html, 'html.parser')"
   ]
  },
  {
   "cell_type": "code",
   "execution_count": 43,
   "metadata": {},
   "outputs": [
    {
     "name": "stdout",
     "output_type": "stream",
     "text": [
      "Classes of tables:\n",
      "['mi-table']\n",
      "['mt-3', 'mi-table']\n",
      "['mi-table']\n",
      "['mi-table', 'mb-4', 'quoteapi-even-items']\n",
      "['mi-table', 'mb-4', 'quoteapi-odd-items']\n"
     ]
    }
   ],
   "source": [
    "# check classes of tables\n",
    "print('Classes of tables:')\n",
    "for table in soup.find_all('table'):\n",
    "    print(table.get('class'))"
   ]
  },
  {
   "cell_type": "code",
   "execution_count": 44,
   "metadata": {},
   "outputs": [],
   "source": [
    "#  retrieve data from table with class 'mi-table', 'mb-4', 'quoteapi-even-items'\n",
    "table = soup.find('table', class_='mi-table mb-4 quoteapi-even-items')"
   ]
  },
  {
   "cell_type": "code",
   "execution_count": 45,
   "metadata": {},
   "outputs": [],
   "source": [
    "# define dataframe\n",
    "asx200_df = pd.DataFrame(columns=['company_code', 'company_name', 'price_29jul22', 'change', 'percent_change', \n",
    "                                  'high', 'low', 'volume', 'market_cap', 'one_year_percent_change'])\n",
    "\n",
    "# collect data\n",
    "for row in table.tbody.find_all('tr'):    \n",
    "    # Find all data for each column\n",
    "    columns = row.find_all('td')\n",
    "    \n",
    "    if(columns != []):\n",
    "        company_code = columns[1].text\n",
    "        company_name = columns[2].span.contents[0]\n",
    "        price_29jul22 = columns[3].text\n",
    "        change = columns[4].text\n",
    "        percent_change = columns[5].text\n",
    "        high = columns[6].text\n",
    "        low = columns[7].text\n",
    "        volume = columns[8].text\n",
    "        market_cap = columns[9].text\n",
    "        one_year_percent_change = columns[10].text\n",
    "\n",
    "        asx200_df = asx200_df.append({'company_code': company_code,  'company_name': company_name, 'price_29jul22': price_29jul22, \n",
    "                                      'change': change, 'percent_change': percent_change, 'high': high, 'low':low, 'volume':volume,\n",
    "                                      'market_cap': market_cap, 'one_year_percent_change': one_year_percent_change }, ignore_index=True)"
   ]
  },
  {
   "cell_type": "code",
   "execution_count": 64,
   "metadata": {},
   "outputs": [
    {
     "name": "stdout",
     "output_type": "stream",
     "text": [
      "200\n"
     ]
    },
    {
     "data": {
      "text/html": [
       "<div>\n",
       "<style scoped>\n",
       "    .dataframe tbody tr th:only-of-type {\n",
       "        vertical-align: middle;\n",
       "    }\n",
       "\n",
       "    .dataframe tbody tr th {\n",
       "        vertical-align: top;\n",
       "    }\n",
       "\n",
       "    .dataframe thead th {\n",
       "        text-align: right;\n",
       "    }\n",
       "</style>\n",
       "<table border=\"1\" class=\"dataframe\">\n",
       "  <thead>\n",
       "    <tr style=\"text-align: right;\">\n",
       "      <th></th>\n",
       "      <th>company_code</th>\n",
       "      <th>company_name</th>\n",
       "      <th>price_29jul22</th>\n",
       "      <th>change</th>\n",
       "      <th>percent_change</th>\n",
       "      <th>high</th>\n",
       "      <th>low</th>\n",
       "      <th>volume</th>\n",
       "      <th>market_cap</th>\n",
       "      <th>one_year_percent_change</th>\n",
       "    </tr>\n",
       "  </thead>\n",
       "  <tbody>\n",
       "    <tr>\n",
       "      <th>0</th>\n",
       "      <td>A200</td>\n",
       "      <td>Betashares Australia 200 ETF</td>\n",
       "      <td>$115.50</td>\n",
       "      <td>+1.03</td>\n",
       "      <td>+0.90%</td>\n",
       "      <td>$115.91</td>\n",
       "      <td>$115.39</td>\n",
       "      <td>32,136</td>\n",
       "      <td>$2.2B</td>\n",
       "      <td>-7.75%</td>\n",
       "    </tr>\n",
       "    <tr>\n",
       "      <th>1</th>\n",
       "      <td>A2M</td>\n",
       "      <td>The a2 Milk Company Ltd</td>\n",
       "      <td>$4.54</td>\n",
       "      <td>+0.14</td>\n",
       "      <td>+3.18%</td>\n",
       "      <td>$4.54</td>\n",
       "      <td>$4.38</td>\n",
       "      <td>2,779,566</td>\n",
       "      <td>$3.4B</td>\n",
       "      <td>-26.06%</td>\n",
       "    </tr>\n",
       "    <tr>\n",
       "      <th>2</th>\n",
       "      <td>AAA</td>\n",
       "      <td>Betashares Australian High Interest Cash ETF</td>\n",
       "      <td>$50.13</td>\n",
       "      <td>0.00</td>\n",
       "      <td>0.00</td>\n",
       "      <td>$50.13</td>\n",
       "      <td>$50.12</td>\n",
       "      <td>656,478</td>\n",
       "      <td>$1.8B</td>\n",
       "      <td>+0.08%</td>\n",
       "    </tr>\n",
       "    <tr>\n",
       "      <th>3</th>\n",
       "      <td>ABP</td>\n",
       "      <td>Abacus Property Group</td>\n",
       "      <td>$2.93</td>\n",
       "      <td>+0.05</td>\n",
       "      <td>+1.74%</td>\n",
       "      <td>$2.95</td>\n",
       "      <td>$2.91</td>\n",
       "      <td>986,196</td>\n",
       "      <td>$2.6B</td>\n",
       "      <td>-6.39%</td>\n",
       "    </tr>\n",
       "    <tr>\n",
       "      <th>4</th>\n",
       "      <td>AFI</td>\n",
       "      <td>Australian Foundation Investment Company Ltd</td>\n",
       "      <td>$8.00</td>\n",
       "      <td>-0.02</td>\n",
       "      <td>-0.25%</td>\n",
       "      <td>$8.04</td>\n",
       "      <td>$7.99</td>\n",
       "      <td>348,190</td>\n",
       "      <td>$9.8B</td>\n",
       "      <td>-4.08%</td>\n",
       "    </tr>\n",
       "  </tbody>\n",
       "</table>\n",
       "</div>"
      ],
      "text/plain": [
       "  company_code                                  company_name price_29jul22  \\\n",
       "0         A200                  Betashares Australia 200 ETF       $115.50   \n",
       "1          A2M                       The a2 Milk Company Ltd         $4.54   \n",
       "2          AAA  Betashares Australian High Interest Cash ETF        $50.13   \n",
       "3          ABP                         Abacus Property Group         $2.93   \n",
       "4          AFI  Australian Foundation Investment Company Ltd         $8.00   \n",
       "\n",
       "  change percent_change     high      low     volume market_cap  \\\n",
       "0  +1.03         +0.90%  $115.91  $115.39     32,136      $2.2B   \n",
       "1  +0.14         +3.18%    $4.54    $4.38  2,779,566      $3.4B   \n",
       "2   0.00           0.00   $50.13   $50.12    656,478      $1.8B   \n",
       "3  +0.05         +1.74%    $2.95    $2.91    986,196      $2.6B   \n",
       "4  -0.02         -0.25%    $8.04    $7.99    348,190      $9.8B   \n",
       "\n",
       "  one_year_percent_change  \n",
       "0                  -7.75%  \n",
       "1                 -26.06%  \n",
       "2                  +0.08%  \n",
       "3                  -6.39%  \n",
       "4                  -4.08%  "
      ]
     },
     "execution_count": 64,
     "metadata": {},
     "output_type": "execute_result"
    }
   ],
   "source": [
    "# show data\n",
    "print(len(asx200_df))\n",
    "asx200_df.head()"
   ]
  },
  {
   "cell_type": "code",
   "execution_count": 47,
   "metadata": {},
   "outputs": [],
   "source": [
    "# end splinter\n",
    "browser.quit()"
   ]
  },
  {
   "cell_type": "markdown",
   "metadata": {},
   "source": [
    "## Transform data"
   ]
  },
  {
   "cell_type": "code",
   "execution_count": 48,
   "metadata": {},
   "outputs": [
    {
     "name": "stdout",
     "output_type": "stream",
     "text": [
      "200\n"
     ]
    },
    {
     "data": {
      "text/plain": [
       "company_code               object\n",
       "company_name               object\n",
       "price_29jul22              object\n",
       "change                     object\n",
       "percent_change             object\n",
       "one_year_percent_change    object\n",
       "dtype: object"
      ]
     },
     "execution_count": 48,
     "metadata": {},
     "output_type": "execute_result"
    }
   ],
   "source": [
    "# remove column\n",
    "transformed_asx200_df = asx200_df[['company_code', 'company_name', 'price_29jul22', 'change','percent_change', \n",
    "                                   'one_year_percent_change']].copy()\n",
    "\n",
    "# drop duplicates\n",
    "transformed_asx200_df = transformed_asx200_df.drop_duplicates(subset=['company_code'])\n",
    "\n",
    "# fill na\n",
    "transformed_asx200_df= transformed_asx200_df.fillna(0)\n",
    "\n",
    "print(len(transformed_asx200_df))\n",
    "\n",
    "# check data type\n",
    "transformed_asx200_df.dtypes"
   ]
  },
  {
   "cell_type": "code",
   "execution_count": 49,
   "metadata": {},
   "outputs": [],
   "source": [
    "# remove $ signs\n",
    "transformed_asx200_df['price_29jul22'] = transformed_asx200_df['price_29jul22'].map(lambda x: x.lstrip('$'))"
   ]
  },
  {
   "cell_type": "code",
   "execution_count": 50,
   "metadata": {},
   "outputs": [],
   "source": [
    "# change %str to float\n",
    "transformed_asx200_df['percent_change'] = transformed_asx200_df['percent_change'].str.rstrip('%').astype('float')\n",
    "transformed_asx200_df['one_year_percent_change'] = transformed_asx200_df['one_year_percent_change'].str.rstrip('%').astype('float')"
   ]
  },
  {
   "cell_type": "code",
   "execution_count": 51,
   "metadata": {},
   "outputs": [
    {
     "data": {
      "text/plain": [
       "company_code                object\n",
       "company_name                object\n",
       "price_29jul22              float64\n",
       "change                     float64\n",
       "percent_change             float64\n",
       "one_year_percent_change    float64\n",
       "dtype: object"
      ]
     },
     "execution_count": 51,
     "metadata": {},
     "output_type": "execute_result"
    }
   ],
   "source": [
    "# change data type\n",
    "transformed_asx200_df = transformed_asx200_df.astype({'price_29jul22':'float','change':'float'})\n",
    "\n",
    "transformed_asx200_df.dtypes"
   ]
  },
  {
   "cell_type": "code",
   "execution_count": 52,
   "metadata": {},
   "outputs": [],
   "source": [
    "# sort by company_code\n",
    "transformed_asx200_df= transformed_asx200_df.sort_values(by=['company_code'])"
   ]
  },
  {
   "cell_type": "code",
   "execution_count": 65,
   "metadata": {},
   "outputs": [
    {
     "name": "stdout",
     "output_type": "stream",
     "text": [
      "200\n"
     ]
    },
    {
     "data": {
      "text/html": [
       "<div>\n",
       "<style scoped>\n",
       "    .dataframe tbody tr th:only-of-type {\n",
       "        vertical-align: middle;\n",
       "    }\n",
       "\n",
       "    .dataframe tbody tr th {\n",
       "        vertical-align: top;\n",
       "    }\n",
       "\n",
       "    .dataframe thead th {\n",
       "        text-align: right;\n",
       "    }\n",
       "</style>\n",
       "<table border=\"1\" class=\"dataframe\">\n",
       "  <thead>\n",
       "    <tr style=\"text-align: right;\">\n",
       "      <th></th>\n",
       "      <th>company_code</th>\n",
       "      <th>company_name</th>\n",
       "      <th>price_29jul22</th>\n",
       "      <th>change</th>\n",
       "      <th>percent_change</th>\n",
       "      <th>one_year_percent_change</th>\n",
       "    </tr>\n",
       "  </thead>\n",
       "  <tbody>\n",
       "    <tr>\n",
       "      <th>0</th>\n",
       "      <td>A200</td>\n",
       "      <td>Betashares Australia 200 ETF</td>\n",
       "      <td>115.50</td>\n",
       "      <td>1.03</td>\n",
       "      <td>0.90</td>\n",
       "      <td>-7.75</td>\n",
       "    </tr>\n",
       "    <tr>\n",
       "      <th>1</th>\n",
       "      <td>A2M</td>\n",
       "      <td>The a2 Milk Company Ltd</td>\n",
       "      <td>4.54</td>\n",
       "      <td>0.14</td>\n",
       "      <td>3.18</td>\n",
       "      <td>-26.06</td>\n",
       "    </tr>\n",
       "    <tr>\n",
       "      <th>2</th>\n",
       "      <td>AAA</td>\n",
       "      <td>Betashares Australian High Interest Cash ETF</td>\n",
       "      <td>50.13</td>\n",
       "      <td>0.00</td>\n",
       "      <td>0.00</td>\n",
       "      <td>0.08</td>\n",
       "    </tr>\n",
       "    <tr>\n",
       "      <th>3</th>\n",
       "      <td>ABP</td>\n",
       "      <td>Abacus Property Group</td>\n",
       "      <td>2.93</td>\n",
       "      <td>0.05</td>\n",
       "      <td>1.74</td>\n",
       "      <td>-6.39</td>\n",
       "    </tr>\n",
       "    <tr>\n",
       "      <th>4</th>\n",
       "      <td>AFI</td>\n",
       "      <td>Australian Foundation Investment Company Ltd</td>\n",
       "      <td>8.00</td>\n",
       "      <td>-0.02</td>\n",
       "      <td>-0.25</td>\n",
       "      <td>-4.08</td>\n",
       "    </tr>\n",
       "  </tbody>\n",
       "</table>\n",
       "</div>"
      ],
      "text/plain": [
       "  company_code                                  company_name  price_29jul22  \\\n",
       "0         A200                  Betashares Australia 200 ETF         115.50   \n",
       "1          A2M                       The a2 Milk Company Ltd           4.54   \n",
       "2          AAA  Betashares Australian High Interest Cash ETF          50.13   \n",
       "3          ABP                         Abacus Property Group           2.93   \n",
       "4          AFI  Australian Foundation Investment Company Ltd           8.00   \n",
       "\n",
       "   change  percent_change  one_year_percent_change  \n",
       "0    1.03            0.90                    -7.75  \n",
       "1    0.14            3.18                   -26.06  \n",
       "2    0.00            0.00                     0.08  \n",
       "3    0.05            1.74                    -6.39  \n",
       "4   -0.02           -0.25                    -4.08  "
      ]
     },
     "execution_count": 65,
     "metadata": {},
     "output_type": "execute_result"
    }
   ],
   "source": [
    "# show data\n",
    "print(len(transformed_asx200_df))\n",
    "transformed_asx200_df.head()"
   ]
  },
  {
   "cell_type": "markdown",
   "metadata": {},
   "source": [
    "## Table 2: ASX Company"
   ]
  },
  {
   "cell_type": "markdown",
   "metadata": {},
   "source": [
    "## Extract data from CSV file, source: https://www.listcorp.com/asx/"
   ]
  },
  {
   "cell_type": "code",
   "execution_count": 54,
   "metadata": {},
   "outputs": [
    {
     "data": {
      "text/plain": [
       "2217"
      ]
     },
     "execution_count": 54,
     "metadata": {},
     "output_type": "execute_result"
    }
   ],
   "source": [
    "# create dataframe from CSV file\n",
    "asx_company = \"companies-list.csv\"\n",
    "asx_company_df = pd.read_csv(asx_company)\n",
    "len(asx_company_df)"
   ]
  },
  {
   "cell_type": "code",
   "execution_count": 66,
   "metadata": {},
   "outputs": [
    {
     "name": "stdout",
     "output_type": "stream",
     "text": [
      "2217\n"
     ]
    },
    {
     "data": {
      "text/html": [
       "<div>\n",
       "<style scoped>\n",
       "    .dataframe tbody tr th:only-of-type {\n",
       "        vertical-align: middle;\n",
       "    }\n",
       "\n",
       "    .dataframe tbody tr th {\n",
       "        vertical-align: top;\n",
       "    }\n",
       "\n",
       "    .dataframe thead th {\n",
       "        text-align: right;\n",
       "    }\n",
       "</style>\n",
       "<table border=\"1\" class=\"dataframe\">\n",
       "  <thead>\n",
       "    <tr style=\"text-align: right;\">\n",
       "      <th></th>\n",
       "      <th>Code</th>\n",
       "      <th>Company</th>\n",
       "      <th>Link</th>\n",
       "      <th>Market Cap</th>\n",
       "      <th>Last trade</th>\n",
       "      <th>Change</th>\n",
       "      <th>%Change</th>\n",
       "      <th>Sector</th>\n",
       "    </tr>\n",
       "  </thead>\n",
       "  <tbody>\n",
       "    <tr>\n",
       "      <th>0</th>\n",
       "      <td>ASX:BHP</td>\n",
       "      <td>BHP Group Limited (ASX:BHP)</td>\n",
       "      <td>https://www.listcorp.com/asx/bhp/bhp-group-lim...</td>\n",
       "      <td>193988000000</td>\n",
       "      <td>38.68</td>\n",
       "      <td>0.0</td>\n",
       "      <td>0.0</td>\n",
       "      <td>Materials</td>\n",
       "    </tr>\n",
       "    <tr>\n",
       "      <th>1</th>\n",
       "      <td>ASX:CBA</td>\n",
       "      <td>Commonwealth Bank (ASX:CBA)</td>\n",
       "      <td>https://www.listcorp.com/asx/cba/commonwealth-...</td>\n",
       "      <td>169967000000</td>\n",
       "      <td>100.77</td>\n",
       "      <td>0.0</td>\n",
       "      <td>0.0</td>\n",
       "      <td>Financials</td>\n",
       "    </tr>\n",
       "    <tr>\n",
       "      <th>2</th>\n",
       "      <td>ASX:CSL</td>\n",
       "      <td>CSL Limited (ASX:CSL)</td>\n",
       "      <td>https://www.listcorp.com/asx/csl/csl-limited</td>\n",
       "      <td>140369000000</td>\n",
       "      <td>289.84</td>\n",
       "      <td>0.0</td>\n",
       "      <td>0.0</td>\n",
       "      <td>Health Care</td>\n",
       "    </tr>\n",
       "    <tr>\n",
       "      <th>3</th>\n",
       "      <td>ASX:NAB</td>\n",
       "      <td>National Australia Bank (ASX:NAB)</td>\n",
       "      <td>https://www.listcorp.com/asx/nab/nab</td>\n",
       "      <td>96384200000</td>\n",
       "      <td>30.60</td>\n",
       "      <td>0.0</td>\n",
       "      <td>0.0</td>\n",
       "      <td>Financials</td>\n",
       "    </tr>\n",
       "    <tr>\n",
       "      <th>4</th>\n",
       "      <td>ASX:WBC</td>\n",
       "      <td>Westpac Banking Corp (ASX:WBC)</td>\n",
       "      <td>https://www.listcorp.com/asx/wbc/westpac</td>\n",
       "      <td>75029200000</td>\n",
       "      <td>21.51</td>\n",
       "      <td>0.0</td>\n",
       "      <td>0.0</td>\n",
       "      <td>Financials</td>\n",
       "    </tr>\n",
       "  </tbody>\n",
       "</table>\n",
       "</div>"
      ],
      "text/plain": [
       "      Code                            Company  \\\n",
       "0  ASX:BHP        BHP Group Limited (ASX:BHP)   \n",
       "1  ASX:CBA        Commonwealth Bank (ASX:CBA)   \n",
       "2  ASX:CSL              CSL Limited (ASX:CSL)   \n",
       "3  ASX:NAB  National Australia Bank (ASX:NAB)   \n",
       "4  ASX:WBC     Westpac Banking Corp (ASX:WBC)   \n",
       "\n",
       "                                                Link    Market Cap  \\\n",
       "0  https://www.listcorp.com/asx/bhp/bhp-group-lim...  193988000000   \n",
       "1  https://www.listcorp.com/asx/cba/commonwealth-...  169967000000   \n",
       "2       https://www.listcorp.com/asx/csl/csl-limited  140369000000   \n",
       "3               https://www.listcorp.com/asx/nab/nab   96384200000   \n",
       "4           https://www.listcorp.com/asx/wbc/westpac   75029200000   \n",
       "\n",
       "   Last trade  Change  %Change       Sector  \n",
       "0       38.68     0.0      0.0    Materials  \n",
       "1      100.77     0.0      0.0   Financials  \n",
       "2      289.84     0.0      0.0  Health Care  \n",
       "3       30.60     0.0      0.0   Financials  \n",
       "4       21.51     0.0      0.0   Financials  "
      ]
     },
     "execution_count": 66,
     "metadata": {},
     "output_type": "execute_result"
    }
   ],
   "source": [
    "# show data\n",
    "print(len(asx_company_df))\n",
    "asx_company_df.head()"
   ]
  },
  {
   "cell_type": "markdown",
   "metadata": {},
   "source": [
    "## Transform data"
   ]
  },
  {
   "cell_type": "code",
   "execution_count": 56,
   "metadata": {},
   "outputs": [
    {
     "name": "stdout",
     "output_type": "stream",
     "text": [
      "2217\n"
     ]
    },
    {
     "data": {
      "text/plain": [
       "company_code    object\n",
       "company_name    object\n",
       "market_cap       int64\n",
       "sector          object\n",
       "dtype: object"
      ]
     },
     "execution_count": 56,
     "metadata": {},
     "output_type": "execute_result"
    }
   ],
   "source": [
    "# remove column\n",
    "transformed_asx_company_df = asx_company_df[['Code', 'Company', 'Market Cap', 'Sector']].copy()\n",
    "\n",
    "# change column name\n",
    "transformed_asx_company_df.columns = ['company_code', 'company_name', 'market_cap', 'sector']\n",
    "\n",
    "# drop duplicates\n",
    "transformed_asx_company_df = transformed_asx_company_df.drop_duplicates(subset=['company_code'])\n",
    "\n",
    "# drop na\n",
    "transformed_asx_company_df = transformed_asx_company_df.dropna(thresh=2)\n",
    "\n",
    "print(len(transformed_asx_company_df))\n",
    "\n",
    "# check data type\n",
    "transformed_asx_company_df.dtypes"
   ]
  },
  {
   "cell_type": "code",
   "execution_count": 57,
   "metadata": {},
   "outputs": [
    {
     "data": {
      "text/html": [
       "<div>\n",
       "<style scoped>\n",
       "    .dataframe tbody tr th:only-of-type {\n",
       "        vertical-align: middle;\n",
       "    }\n",
       "\n",
       "    .dataframe tbody tr th {\n",
       "        vertical-align: top;\n",
       "    }\n",
       "\n",
       "    .dataframe thead th {\n",
       "        text-align: right;\n",
       "    }\n",
       "</style>\n",
       "<table border=\"1\" class=\"dataframe\">\n",
       "  <thead>\n",
       "    <tr style=\"text-align: right;\">\n",
       "      <th></th>\n",
       "      <th>company_code</th>\n",
       "      <th>company_name</th>\n",
       "      <th>market_cap</th>\n",
       "      <th>sector</th>\n",
       "    </tr>\n",
       "  </thead>\n",
       "  <tbody>\n",
       "    <tr>\n",
       "      <th>0</th>\n",
       "      <td>:BHP</td>\n",
       "      <td>BHP Group Limited (ASX:BHP)</td>\n",
       "      <td>193988000000</td>\n",
       "      <td>Materials</td>\n",
       "    </tr>\n",
       "    <tr>\n",
       "      <th>1</th>\n",
       "      <td>:CBA</td>\n",
       "      <td>Commonwealth Bank (ASX:CBA)</td>\n",
       "      <td>169967000000</td>\n",
       "      <td>Financials</td>\n",
       "    </tr>\n",
       "    <tr>\n",
       "      <th>2</th>\n",
       "      <td>:CSL</td>\n",
       "      <td>CSL Limited (ASX:CSL)</td>\n",
       "      <td>140369000000</td>\n",
       "      <td>Health Care</td>\n",
       "    </tr>\n",
       "    <tr>\n",
       "      <th>3</th>\n",
       "      <td>:NAB</td>\n",
       "      <td>National Australia Bank (ASX:NAB)</td>\n",
       "      <td>96384200000</td>\n",
       "      <td>Financials</td>\n",
       "    </tr>\n",
       "    <tr>\n",
       "      <th>4</th>\n",
       "      <td>:WBC</td>\n",
       "      <td>Westpac Banking Corp (ASX:WBC)</td>\n",
       "      <td>75029200000</td>\n",
       "      <td>Financials</td>\n",
       "    </tr>\n",
       "  </tbody>\n",
       "</table>\n",
       "</div>"
      ],
      "text/plain": [
       "  company_code                       company_name    market_cap       sector\n",
       "0         :BHP        BHP Group Limited (ASX:BHP)  193988000000    Materials\n",
       "1         :CBA        Commonwealth Bank (ASX:CBA)  169967000000   Financials\n",
       "2         :CSL              CSL Limited (ASX:CSL)  140369000000  Health Care\n",
       "3         :NAB  National Australia Bank (ASX:NAB)   96384200000   Financials\n",
       "4         :WBC     Westpac Banking Corp (ASX:WBC)   75029200000   Financials"
      ]
     },
     "execution_count": 57,
     "metadata": {},
     "output_type": "execute_result"
    }
   ],
   "source": [
    "# remame rows in column \"company_code\"\n",
    "transformed_asx_company_df['company_code'] = transformed_asx_company_df['company_code'].map(lambda x: x.lstrip('ASX'))\n",
    "transformed_asx_company_df.head()\n"
   ]
  },
  {
   "cell_type": "code",
   "execution_count": 58,
   "metadata": {},
   "outputs": [],
   "source": [
    "# remame rows in column \"company_code\"\n",
    "transformed_asx_company_df['company_code'] = transformed_asx_company_df['company_code'].map(lambda x: x.lstrip(':'))\n",
    "\n",
    "# sort by company_code\n",
    "transformed_asx_company_df = transformed_asx_company_df.sort_values(by=['company_code'])"
   ]
  },
  {
   "cell_type": "code",
   "execution_count": 59,
   "metadata": {},
   "outputs": [
    {
     "data": {
      "text/html": [
       "<div>\n",
       "<style scoped>\n",
       "    .dataframe tbody tr th:only-of-type {\n",
       "        vertical-align: middle;\n",
       "    }\n",
       "\n",
       "    .dataframe tbody tr th {\n",
       "        vertical-align: top;\n",
       "    }\n",
       "\n",
       "    .dataframe thead th {\n",
       "        text-align: right;\n",
       "    }\n",
       "</style>\n",
       "<table border=\"1\" class=\"dataframe\">\n",
       "  <thead>\n",
       "    <tr style=\"text-align: right;\">\n",
       "      <th></th>\n",
       "      <th>company_code</th>\n",
       "      <th>company_name</th>\n",
       "      <th>market_cap</th>\n",
       "      <th>sector</th>\n",
       "    </tr>\n",
       "  </thead>\n",
       "  <tbody>\n",
       "    <tr>\n",
       "      <th>1513</th>\n",
       "      <td>14D</td>\n",
       "      <td>1414 Degrees Limited (ASX:14D)</td>\n",
       "      <td>21208500</td>\n",
       "      <td>Industrials</td>\n",
       "    </tr>\n",
       "    <tr>\n",
       "      <th>1636</th>\n",
       "      <td>1AD</td>\n",
       "      <td>AdAlta Limited (ASX:1AD)</td>\n",
       "      <td>15709200</td>\n",
       "      <td>Health Care</td>\n",
       "    </tr>\n",
       "    <tr>\n",
       "      <th>1413</th>\n",
       "      <td>1AE</td>\n",
       "      <td>Aurora Energy Metals Limited (ASX:1AE)</td>\n",
       "      <td>26270400</td>\n",
       "      <td>Materials</td>\n",
       "    </tr>\n",
       "    <tr>\n",
       "      <th>1777</th>\n",
       "      <td>1AG</td>\n",
       "      <td>Alterra Limited (ASX:1AG)</td>\n",
       "      <td>11128800</td>\n",
       "      <td>Consumer Staples</td>\n",
       "    </tr>\n",
       "    <tr>\n",
       "      <th>902</th>\n",
       "      <td>1MC</td>\n",
       "      <td>Morella Corporation Limited (ASX:1MC)</td>\n",
       "      <td>93171900</td>\n",
       "      <td>Materials</td>\n",
       "    </tr>\n",
       "  </tbody>\n",
       "</table>\n",
       "</div>"
      ],
      "text/plain": [
       "     company_code                            company_name  market_cap  \\\n",
       "1513          14D          1414 Degrees Limited (ASX:14D)    21208500   \n",
       "1636          1AD                AdAlta Limited (ASX:1AD)    15709200   \n",
       "1413          1AE  Aurora Energy Metals Limited (ASX:1AE)    26270400   \n",
       "1777          1AG               Alterra Limited (ASX:1AG)    11128800   \n",
       "902           1MC   Morella Corporation Limited (ASX:1MC)    93171900   \n",
       "\n",
       "                sector  \n",
       "1513       Industrials  \n",
       "1636       Health Care  \n",
       "1413         Materials  \n",
       "1777  Consumer Staples  \n",
       "902          Materials  "
      ]
     },
     "execution_count": 59,
     "metadata": {},
     "output_type": "execute_result"
    }
   ],
   "source": [
    "transformed_asx_company_df.head()"
   ]
  },
  {
   "cell_type": "markdown",
   "metadata": {},
   "source": [
    "## Load dataframe to database "
   ]
  },
  {
   "cell_type": "code",
   "execution_count": 60,
   "metadata": {},
   "outputs": [],
   "source": [
    "# create connection\n",
    "connection = \"postgres:David$1986@localhost:5432/asx_db\"\n",
    "engine = create_engine(f'postgresql://{connection}')"
   ]
  },
  {
   "cell_type": "code",
   "execution_count": 61,
   "metadata": {},
   "outputs": [
    {
     "name": "stderr",
     "output_type": "stream",
     "text": [
      "c:\\Users\\david\\Anaconda3\\envs\\bootcamp\\lib\\site-packages\\ipykernel_launcher.py:2: SADeprecationWarning: The Engine.table_names() method is deprecated and will be removed in a future release.  Please refer to Inspector.get_table_names(). (deprecated since: 1.4)\n",
      "  \n"
     ]
    },
    {
     "data": {
      "text/plain": [
       "['asx_200', 'asx_companies']"
      ]
     },
     "execution_count": 61,
     "metadata": {},
     "output_type": "execute_result"
    }
   ],
   "source": [
    "# Confirm tables\n",
    "engine.table_names()"
   ]
  },
  {
   "cell_type": "code",
   "execution_count": 62,
   "metadata": {},
   "outputs": [],
   "source": [
    "# # load dataframe\n",
    "transformed_asx200_df.to_sql(name=\"asx_200\", con=engine, if_exists='append', index=False)\n",
    "\n",
    "transformed_asx_company_df.to_sql(name=\"asx_companies\", con=engine, if_exists='append', index=False)"
   ]
  }
 ],
 "metadata": {
  "kernelspec": {
   "display_name": "Python 3.7.13 ('bootcamp')",
   "language": "python",
   "name": "python3"
  },
  "language_info": {
   "codemirror_mode": {
    "name": "ipython",
    "version": 3
   },
   "file_extension": ".py",
   "mimetype": "text/x-python",
   "name": "python",
   "nbconvert_exporter": "python",
   "pygments_lexer": "ipython3",
   "version": "3.7.13"
  },
  "orig_nbformat": 4,
  "vscode": {
   "interpreter": {
    "hash": "f558debdfaba676aff5dab4f39c140e6991e3cee48166dee3f538a0f8087c214"
   }
  }
 },
 "nbformat": 4,
 "nbformat_minor": 2
}
